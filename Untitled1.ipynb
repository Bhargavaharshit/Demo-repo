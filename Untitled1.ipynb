{
 "cells": [
  {
   "cell_type": "code",
   "execution_count": 14,
   "id": "454b94b5",
   "metadata": {},
   "outputs": [
    {
     "name": "stdout",
     "output_type": "stream",
     "text": [
      "10\n",
      "20\n",
      "pinky\n"
     ]
    }
   ],
   "source": [
    "x = 10 \n",
    "y = 20\n",
    "myname= \"pinky\"\n",
    "print(x)\n",
    "print(y)\n",
    "print(myname)"
   ]
  },
  {
   "cell_type": "code",
   "execution_count": 17,
   "id": "a793a794",
   "metadata": {},
   "outputs": [
    {
     "name": "stdout",
     "output_type": "stream",
     "text": [
      "hello world\n"
     ]
    }
   ],
   "source": [
    "print('hello world')"
   ]
  },
  {
   "cell_type": "code",
   "execution_count": 18,
   "id": "bc044ce0",
   "metadata": {},
   "outputs": [
    {
     "name": "stdout",
     "output_type": "stream",
     "text": [
      "harshit bhargava\n"
     ]
    }
   ],
   "source": [
    "firstname = 'harshit'\n",
    "lastname = 'bhargava'\n",
    "\n",
    "print(firstname, lastname)"
   ]
  },
  {
   "cell_type": "code",
   "execution_count": 19,
   "id": "53e340e8",
   "metadata": {},
   "outputs": [
    {
     "name": "stdout",
     "output_type": "stream",
     "text": [
      "110\n"
     ]
    }
   ],
   "source": [
    "a = 50\n",
    "b = 60\n",
    "\n",
    "# the sum of a and b is 110\n",
    "\n",
    "print(a+b)"
   ]
  },
  {
   "cell_type": "code",
   "execution_count": 21,
   "id": "1e78c365",
   "metadata": {},
   "outputs": [
    {
     "name": "stdout",
     "output_type": "stream",
     "text": [
      "the sum of a and b is 110\n"
     ]
    }
   ],
   "source": [
    "print('the sum of a and b is', a+b)"
   ]
  },
  {
   "cell_type": "code",
   "execution_count": null,
   "id": "02d4ba24",
   "metadata": {},
   "outputs": [],
   "source": []
  }
 ],
 "metadata": {
  "kernelspec": {
   "display_name": "Python 3 (ipykernel)",
   "language": "python",
   "name": "python3"
  },
  "language_info": {
   "codemirror_mode": {
    "name": "ipython",
    "version": 3
   },
   "file_extension": ".py",
   "mimetype": "text/x-python",
   "name": "python",
   "nbconvert_exporter": "python",
   "pygments_lexer": "ipython3",
   "version": "3.9.12"
  }
 },
 "nbformat": 4,
 "nbformat_minor": 5
}
